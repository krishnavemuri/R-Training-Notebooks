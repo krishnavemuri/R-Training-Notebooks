{
 "cells": [
  {
   "cell_type": "markdown",
   "metadata": {},
   "source": [
    "# CyberGIS Fall Training Workshops: R on Roger\n",
    "\n",
    "#### Information on Jupyter\n",
    "\n",
    "All of the commands that you encounter below can be run right here in Jupyter.  Simply select the block of text that contains the script that you wish to run and then hit the \"run cell\" icon in the toolbar above (looks like a play button).\n",
    "\n",
    "**Warning**: Jupyter Notebooks may not work correctly in Safari. We recommend you use Chrome or Firefox. Change browsers if there seems to be a problem.\n",
    "\n",
    "Jupyter Notebooks autosave; check the text next to the file name at the top of the screen to see if it has saved before you close the browser tab. You can also go to the File menu and choose Save and Checkpoint, which gives you a place to revert back to if you need it.\n",
    "\n",
    "If you are done running the notebook, go to File, then Close and Halt to free up system resources for other users. This will clear out all the variables and memory, but any output from the cells you have run will still be displayed. You can run your cells again from the beginning to re-populate variables.\n",
    "\n",
    "#### To get started\n",
    "Select a cell, then press the \"Run Cell, Select Below\" buton on the toolbar.\n",
    "There are many keyboard shortcuts that make using Jupyter easier. See them under the Help menu, or in [this PDF](Jupyter%20Notebook%20keyboard%20shortcuts.pdf)."
   ]
  },
  {
   "cell_type": "markdown",
   "metadata": {},
   "source": [
    "## Introduction R\n",
    "### R basics:"
   ]
  },
  {
   "cell_type": "code",
   "execution_count": null,
   "metadata": {
    "collapsed": false,
    "scrolled": true
   },
   "outputs": [],
   "source": [
    "#1. R as a calculator\n",
    "4 + 1 - 2"
   ]
  },
  {
   "cell_type": "code",
   "execution_count": null,
   "metadata": {
    "collapsed": false
   },
   "outputs": [],
   "source": [
    "#2. Assignments\n",
    "x <- 3         # Assignment\n",
    "x              # Evaluate the expression and print result\n",
    "\n",
    "y <- 4         # Assignment\n",
    "y + 5          # Evaluation, y remains 4"
   ]
  },
  {
   "cell_type": "code",
   "execution_count": null,
   "metadata": {
    "collapsed": false
   },
   "outputs": [],
   "source": [
    "#3. Value comparisons\n",
    "2==2  # Equality\n",
    "2!=2  # Inequality"
   ]
  },
  {
   "cell_type": "markdown",
   "metadata": {},
   "source": [
    "### Basic data structures:"
   ]
  },
  {
   "cell_type": "code",
   "execution_count": null,
   "metadata": {
    "collapsed": false
   },
   "outputs": [],
   "source": [
    "#1. Vecotrs: Vectors can be constructed by combining their elements with the important R function c().\n",
    "v1 <- c(1, 5, 11, 33)       # Numeric vector, length 4\n",
    "v1"
   ]
  },
  {
   "cell_type": "code",
   "execution_count": null,
   "metadata": {
    "collapsed": false
   },
   "outputs": [],
   "source": [
    "v2 <- c(\"hello\",\"world\")    # Character vector, length 2 (a vector of strings)\n",
    "v2"
   ]
  },
  {
   "cell_type": "code",
   "execution_count": null,
   "metadata": {
    "collapsed": false
   },
   "outputs": [],
   "source": [
    "v3 <- c(TRUE, TRUE, FALSE)  # Logical vector, same as c(T, T, F)\n",
    "v3"
   ]
  },
  {
   "cell_type": "code",
   "execution_count": null,
   "metadata": {
    "collapsed": false
   },
   "outputs": [],
   "source": [
    "#2. Matrix\n",
    "#A matrix is a vector with dimensions:\n",
    "m <- rep(1, 20)   # A vector of 20 elements, all 1\n",
    "dim(m) <- c(5,4)  # Dimensions set to 5 & 4, so m is now a 5x4 matrix\n",
    "m"
   ]
  },
  {
   "cell_type": "code",
   "execution_count": null,
   "metadata": {
    "collapsed": false
   },
   "outputs": [],
   "source": [
    "#Creating a matrix using matrix():\n",
    "m <- matrix(data=1, nrow=5, ncol=4)  # same matrix as above, 5x4, full of 1s\n",
    "m <- matrix(1,5,4)                       # same matrix as above\n",
    "dim(m)                               # What are the dimensions of m?\n",
    "m"
   ]
  },
  {
   "cell_type": "code",
   "execution_count": null,
   "metadata": {
    "collapsed": false
   },
   "outputs": [],
   "source": [
    "#3. Lists: Lists are collections of objects.\n",
    "l1 <- list(boo=v1,foo=v2,moo=v3,zoo=\"Animals!\")  # A list with four components\n",
    "l1"
   ]
  },
  {
   "cell_type": "code",
   "execution_count": null,
   "metadata": {
    "collapsed": false
   },
   "outputs": [],
   "source": [
    "l2 <- list(v1,v2,v3,\"Animals!\")\n",
    "l2"
   ]
  },
  {
   "cell_type": "code",
   "execution_count": null,
   "metadata": {
    "collapsed": false
   },
   "outputs": [],
   "source": [
    "#4. Data Frames: The data frame is a special kind of list used for storing dataset tables. \n",
    "dfr1 <- data.frame( ID=1:4,\n",
    "                    FirstName=c(\"John\",\"Jim\",\"Jane\",\"Jill\"),\n",
    "                    Female=c(F,F,T,T), \n",
    "                    Age=c(22,33,44,55) )\n",
    "dfr1$FirstName   # Access the second column of dfr1. "
   ]
  },
  {
   "cell_type": "code",
   "execution_count": null,
   "metadata": {
    "collapsed": false
   },
   "outputs": [],
   "source": [
    "dfr1"
   ]
  },
  {
   "cell_type": "markdown",
   "metadata": {},
   "source": [
    "### Flow Control and loops:"
   ]
  },
  {
   "cell_type": "code",
   "execution_count": null,
   "metadata": {
    "collapsed": false
   },
   "outputs": [],
   "source": [
    "# if (condition) expr1 else expr2\n",
    "x <- 5; y <- 10\n",
    "if (x==0) y <- 0 else y <- y/x #  \n",
    "y"
   ]
  },
  {
   "cell_type": "code",
   "execution_count": null,
   "metadata": {
    "collapsed": false
   },
   "outputs": [],
   "source": [
    "# for (variable in sequence) expr\n",
    "ASum <- 0; AProd <- 1\n",
    "for (i in 1:x)  \n",
    "{\n",
    "  ASum <- ASum + i\n",
    "  AProd <- AProd * i\n",
    "}\n",
    "ASum  # equivalent to sum(1:x)\n",
    "AProd # equivalemt to prod(1:x)"
   ]
  },
  {
   "cell_type": "markdown",
   "metadata": {},
   "source": [
    "### R plots and colors:"
   ]
  },
  {
   "cell_type": "code",
   "execution_count": null,
   "metadata": {
    "collapsed": false,
    "scrolled": false
   },
   "outputs": [],
   "source": [
    "# In the simple base R plot chart below, x and y are the point coordinates, pch is the point symbol shape, cex is the point size, and col is the color. To see the parameters for plotting in base R, check out ?par\n",
    "plot(x=1:10, y=rep(5,10), pch=19, cex=3, col=\"dark red\")\n",
    "points(x=1:10, y=rep(6, 10), pch=19, cex=3, col=\"557799\")\n",
    "points(x=1:10, y=rep(4, 10), pch=19, cex=3, col=rgb(.25, .5, .3))"
   ]
  },
  {
   "cell_type": "markdown",
   "metadata": {},
   "source": [
    "### Help for R command:"
   ]
  },
  {
   "cell_type": "code",
   "execution_count": null,
   "metadata": {
    "collapsed": true
   },
   "outputs": [],
   "source": [
    "help(plot)"
   ]
  },
  {
   "cell_type": "code",
   "execution_count": null,
   "metadata": {
    "collapsed": true
   },
   "outputs": [],
   "source": [
    "?plot"
   ]
  }
 ],
 "metadata": {
  "kernelspec": {
   "display_name": "R 3.2",
   "language": "R",
   "name": "ir32"
  },
  "language_info": {
   "codemirror_mode": "r",
   "file_extension": ".r",
   "mimetype": "text/x-r-source",
   "name": "R",
   "pygments_lexer": "r",
   "version": "3.2.3"
  }
 },
 "nbformat": 4,
 "nbformat_minor": 0
}

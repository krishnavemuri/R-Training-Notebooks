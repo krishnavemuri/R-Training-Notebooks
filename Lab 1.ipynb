{
 "cells": [
  {
   "cell_type": "markdown",
   "metadata": {},
   "source": [
    "# Lab 1: Running parallel R\n",
    "### Objective:\n",
    "Learn how to run parallel R\n",
    "### Successful outcome:\n",
    "Investigate resource pressures between serial and parallel approaches."
   ]
  },
  {
   "cell_type": "markdown",
   "metadata": {},
   "source": [
    "## Step 1: Install packages "
   ]
  },
  {
   "cell_type": "code",
   "execution_count": null,
   "metadata": {
    "collapsed": false
   },
   "outputs": [],
   "source": [
    "ipak <- function(pkg){\n",
    "new.pkg <- pkg[!(pkg %in% installed.packages()[, \"Package\"])]\n",
    "if (length(new.pkg)) \n",
    "    install.packages(new.pkg, dependencies = TRUE)\n",
    "sapply(pkg, require, character.only = TRUE)\n",
    "}\n",
    "\n",
    "# usage\n",
    "packages <- c(\"snow\", \"foreach\", \"doSNOW\",  \"parallel\", \"boot\")\n",
    "ipak(packages)"
   ]
  },
  {
   "cell_type": "markdown",
   "metadata": {},
   "source": [
    "## Step 2: Define a simple R function"
   ]
  },
  {
   "cell_type": "code",
   "execution_count": null,
   "metadata": {
    "collapsed": true
   },
   "outputs": [],
   "source": [
    "myProc <- function(size=100000) {\n",
    "#Load a large vector\n",
    "vec <- rnorm(size)\n",
    "#Now sleep on it\n",
    "Sys.sleep(2)\n",
    "#Now sum the vec values\n",
    "return(sum(vec))\n",
    "}"
   ]
  },
  {
   "cell_type": "markdown",
   "metadata": {},
   "source": [
    "## Step 3: Serial appraoch - apply function"
   ]
  },
  {
   "cell_type": "code",
   "execution_count": null,
   "metadata": {
    "collapsed": false
   },
   "outputs": [],
   "source": [
    "ptm <- proc.time()\n",
    "result <- sapply(1:10, function(i) myProc())\n",
    "proc.time() - ptm"
   ]
  },
  {
   "cell_type": "markdown",
   "metadata": {},
   "source": [
    "## Step 4: Parallel appraoch -- parallel package"
   ]
  },
  {
   "cell_type": "code",
   "execution_count": null,
   "metadata": {
    "collapsed": false
   },
   "outputs": [],
   "source": [
    "require(parallel)\n",
    "ptm <- proc.time()\n",
    "result <- mclapply(1:10, function(i) myProc(), mc.cores=10)\n",
    "proc.time() - ptm"
   ]
  },
  {
   "cell_type": "markdown",
   "metadata": {},
   "source": [
    "## Step 5: Parallel appraoch -- snow package"
   ]
  },
  {
   "cell_type": "code",
   "execution_count": null,
   "metadata": {
    "collapsed": false
   },
   "outputs": [],
   "source": [
    "require(snow)\n",
    "hostnames <- rep('localhost', 10)\n",
    "cluster <- makeSOCKcluster(hostnames)\n",
    "clusterExport(cluster, list('myProc'))\n",
    "ptm <- proc.time()\n",
    "result <- clusterApply(cluster, 1:10, function(i) myProc())\n",
    "proc.time() - ptm\n",
    "stopCluster(cluster)"
   ]
  },
  {
   "cell_type": "markdown",
   "metadata": {},
   "source": [
    "## Step 6: Parallel appraoch -- foreach + snow package"
   ]
  },
  {
   "cell_type": "code",
   "execution_count": null,
   "metadata": {
    "collapsed": false,
    "scrolled": true
   },
   "outputs": [],
   "source": [
    "## Loading required package: doSNOW\n",
    "require(foreach)\n",
    "require(doSNOW)\n",
    "\n",
    "hostnames <- rep('localhost', 10)\n",
    "cluster <- makeSOCKcluster(hostnames)\n",
    "registerDoSNOW(cluster)\n",
    "ptm <- proc.time()\n",
    "result <- foreach(i=1:10, .combine=c) %dopar% {\n",
    "myProc()\n",
    "}\n",
    "proc.time() - ptm\n",
    "stopCluster(cluster)"
   ]
  },
  {
   "cell_type": "code",
   "execution_count": null,
   "metadata": {
    "collapsed": true
   },
   "outputs": [],
   "source": [
    "help(foreach)"
   ]
  },
  {
   "cell_type": "markdown",
   "metadata": {},
   "source": [
    "## Step 7: Bootstrap calculations based on serial implementation"
   ]
  },
  {
   "cell_type": "code",
   "execution_count": null,
   "metadata": {
    "collapsed": false
   },
   "outputs": [],
   "source": [
    "#dataset\n",
    "random.data <- matrix(rnorm(1000000), ncol = 1000)\n",
    "#calculate a median\n",
    "bmed <- function(d, n) median(d[n])\n",
    "library(boot)\n",
    "ptm <- proc.time()\n",
    "sapply(1:100, function(n) {sd(boot(random.data[, n], bmed, R = 2000)$t)})\n",
    "proc.time() - ptm "
   ]
  },
  {
   "cell_type": "markdown",
   "metadata": {},
   "source": [
    "## Step 8.1: Bootstrap calculations based on parallel implementation"
   ]
  },
  {
   "cell_type": "code",
   "execution_count": null,
   "metadata": {
    "collapsed": false
   },
   "outputs": [],
   "source": [
    "random.data <- matrix(rnorm(1000000), ncol = 1000)\n",
    "bmed <- function(d, n) median(d[n])\n",
    "library(boot)\n",
    "cluster = makeCluster(10, type = \"SOCK\")\n",
    "registerDoSNOW(cluster)\n",
    "clusterExport(cluster, c(\"random.data\", \"bmed\"))\n",
    "ptm <- proc.time()    \n",
    "results = foreach(n = 1:100, .combine = c) %dopar% {\n",
    "     library(boot); \n",
    "     #Define function\n",
    "     sd(boot(random.data[, n], bmed, R = 2000)$t)\n",
    "}\n",
    "results\n",
    "proc.time() - ptm \n",
    "stopCluster(cluster)"
   ]
  },
  {
   "cell_type": "markdown",
   "metadata": {},
   "source": [
    "## Q1: Combine vectors (the results) into a matrix "
   ]
  },
  {
   "cell_type": "code",
   "execution_count": null,
   "metadata": {
    "collapsed": false
   },
   "outputs": [],
   "source": [
    "random.data <- matrix(rnorm(1000000), ncol = 1000)\n",
    "bmed <- function(d, n) median(d[n])\n",
    "library(boot)\n",
    "cluster = makeCluster(10, type = \"SOCK\")\n",
    "registerDoSNOW(cluster)\n",
    "clusterExport(cluster, c(\"random.data\", \"bmed\"))\n",
    "ptm <- proc.time()  \n",
    "\n",
    "#Solution: change .combine argument \n",
    "#Specifying 'c' is useful for concatenating the results into a vector\n",
    "results = foreach(n = 1:100, .combine = c) %dopar% {\n",
    "    library(boot); \n",
    "    #Define function \n",
    "    sd(boot(random.data[, n], bmed, R = 2000)$t)\n",
    "}\n",
    "results\n",
    "proc.time() - ptm \n",
    "stopCluster(cluster)\n",
    "\n",
    "#Calculate mean of results\n",
    "summary_results <- as.data.frame(mean(results))\n",
    "colnames(summary_results) <- \"Mean\"\n",
    "summary_results"
   ]
  }
 ],
 "metadata": {
  "kernelspec": {
   "display_name": "R 3.2",
   "language": "R",
   "name": "ir32"
  },
  "language_info": {
   "codemirror_mode": "r",
   "file_extension": ".r",
   "mimetype": "text/x-r-source",
   "name": "R",
   "pygments_lexer": "r",
   "version": "3.2.3"
  }
 },
 "nbformat": 4,
 "nbformat_minor": 0
}

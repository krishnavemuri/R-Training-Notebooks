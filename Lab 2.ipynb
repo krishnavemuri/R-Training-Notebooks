{
 "cells": [
  {
   "cell_type": "markdown",
   "metadata": {},
   "source": [
    "# Lab 2: Parallel spatial analysis\n",
    "### Objective:\n",
    "Learn how to calculate parallel spatial autocorrelation (Moran’s I)\n",
    "### Successful outcome:\n",
    "You will calculate a spatial autocorrelation index, based on serial and parallel approaches.\n",
    "\n",
    "This is link to [Google](http://www.google.com)"
   ]
  },
  {
   "cell_type": "markdown",
   "metadata": {},
   "source": [
    "## Step 1: Install packages "
   ]
  },
  {
   "cell_type": "code",
   "execution_count": 1,
   "metadata": {
    "collapsed": false
   },
   "outputs": [
    {
     "name": "stderr",
     "output_type": "stream",
     "text": [
      "Loading required package: snow\n",
      "Loading required package: foreach\n",
      "Loading required package: doSNOW\n",
      "Loading required package: iterators\n",
      "Loading required package: parallel\n",
      "\n",
      "Attaching package: ‘parallel’\n",
      "\n",
      "The following objects are masked from ‘package:snow’:\n",
      "\n",
      "    clusterApply, clusterApplyLB, clusterCall, clusterEvalQ,\n",
      "    clusterExport, clusterMap, clusterSplit, makeCluster, parApply,\n",
      "    parCapply, parLapply, parRapply, parSapply, splitIndices,\n",
      "    stopCluster\n",
      "\n",
      "Loading required package: boot\n",
      "Loading required package: maptools\n",
      "Loading required package: sp\n",
      "Checking rgeos availability: TRUE\n",
      "Loading required package: spdep\n",
      "Loading required package: Matrix\n"
     ]
    },
    {
     "data": {
      "text/html": [
       "<dl class=dl-horizontal>\n",
       "\t<dt>snow</dt>\n",
       "\t\t<dd>TRUE</dd>\n",
       "\t<dt>foreach</dt>\n",
       "\t\t<dd>TRUE</dd>\n",
       "\t<dt>doSNOW</dt>\n",
       "\t\t<dd>TRUE</dd>\n",
       "\t<dt>parallel</dt>\n",
       "\t\t<dd>TRUE</dd>\n",
       "\t<dt>boot</dt>\n",
       "\t\t<dd>TRUE</dd>\n",
       "\t<dt>maptools</dt>\n",
       "\t\t<dd>TRUE</dd>\n",
       "\t<dt>spdep</dt>\n",
       "\t\t<dd>TRUE</dd>\n",
       "</dl>\n"
      ],
      "text/latex": [
       "\\begin{description*}\n",
       "\\item[snow] TRUE\n",
       "\\item[foreach] TRUE\n",
       "\\item[doSNOW] TRUE\n",
       "\\item[parallel] TRUE\n",
       "\\item[boot] TRUE\n",
       "\\item[maptools] TRUE\n",
       "\\item[spdep] TRUE\n",
       "\\end{description*}\n"
      ],
      "text/markdown": [
       "snow\n",
       ":   TRUEforeach\n",
       ":   TRUEdoSNOW\n",
       ":   TRUEparallel\n",
       ":   TRUEboot\n",
       ":   TRUEmaptools\n",
       ":   TRUEspdep\n",
       ":   TRUE\n",
       "\n"
      ],
      "text/plain": [
       "    snow  foreach   doSNOW parallel     boot maptools    spdep \n",
       "    TRUE     TRUE     TRUE     TRUE     TRUE     TRUE     TRUE "
      ]
     },
     "metadata": {},
     "output_type": "display_data"
    }
   ],
   "source": [
    "ipak <- function(pkg){\n",
    "new.pkg <- pkg[!(pkg %in% installed.packages()[, \"Package\"])]\n",
    "if (length(new.pkg)) \n",
    "    install.packages(new.pkg, dependencies = TRUE)\n",
    "sapply(pkg, require, character.only = TRUE)\n",
    "}\n",
    "\n",
    "# usage\n",
    "packages <- c(\"snow\", \"foreach\", \"doSNOW\",  \"parallel\", \"boot\", \"maptools\", \"spdep\")\n",
    "ipak(packages)"
   ]
  },
  {
   "cell_type": "markdown",
   "metadata": {},
   "source": [
    "## Step 2: Moran’s I: An index of autocorrelation"
   ]
  },
  {
   "cell_type": "code",
   "execution_count": null,
   "metadata": {
    "collapsed": true
   },
   "outputs": [],
   "source": [
    "#Change to your username\n",
    "username <- \"mhjeong\""
   ]
  },
  {
   "cell_type": "code",
   "execution_count": null,
   "metadata": {
    "collapsed": true
   },
   "outputs": [],
   "source": [
    "mydir <- paste(\"/mnt/jhub/users/\", username, sep =\"\")"
   ]
  },
  {
   "cell_type": "code",
   "execution_count": null,
   "metadata": {
    "collapsed": false
   },
   "outputs": [],
   "source": [
    "mydir\n",
    "#an absolute file path representing the current working directory of the R process\n",
    "setwd(mydir)"
   ]
  },
  {
   "cell_type": "code",
   "execution_count": null,
   "metadata": {
    "collapsed": false
   },
   "outputs": [],
   "source": [
    "# Confirm the working directory is set to what you wanted:\n",
    "getwd()"
   ]
  },
  {
   "cell_type": "code",
   "execution_count": null,
   "metadata": {
    "collapsed": true
   },
   "outputs": [],
   "source": [
    "#Set up a shape folder\n",
    "setwd(\"/mnt/jhub/shape/\")"
   ]
  },
  {
   "cell_type": "code",
   "execution_count": null,
   "metadata": {
    "collapsed": false
   },
   "outputs": [],
   "source": [
    "#Get shapefile header information in the radiation data\n",
    "getinfo.shape(\"Oct_17_20_proj.shp\")\n",
    "#Reads data from a points shapefile\n",
    "radiation<-readShapePoints (\"Oct_17_20_proj.shp\")\n",
    "\n",
    "#Retrieve spatial coordinates from a Spatial object\n",
    "coords<-coordinates(radiation)\n",
    "IDs<-row.names(as(radiation, \"data.frame\"))\n",
    "\n",
    "#Neighbourhood contiguity by distance\n",
    "radiation_nei<-dnearneigh(coords, d1=0, d2=20, row.names=IDs)\n",
    "\n",
    "#Spatial weights for neighbours lists\n",
    "radiation_nbq_wb<-nb2listw(radiation_nei, style=\"W\")\n"
   ]
  },
  {
   "cell_type": "code",
   "execution_count": null,
   "metadata": {
    "collapsed": false
   },
   "outputs": [],
   "source": [
    "#Moran's I test for spatial autocorrelation for a given dataset and W matrix\n",
    "#field_5 indicates gamma-ray counts as a given dataset.\n",
    "#radiation_nbq_wb is W matrix.\n",
    "#This test approximates the test statistics by a normal distribution.\n",
    "moran.test(radiation$field_5, listw=radiation_nbq_wb)\n"
   ]
  },
  {
   "cell_type": "markdown",
   "metadata": {},
   "source": [
    "## Step 3: Moran’s I: Permutation-based hypothesis testing based on parallel  implementation"
   ]
  },
  {
   "cell_type": "code",
   "execution_count": null,
   "metadata": {
    "collapsed": true
   },
   "outputs": [],
   "source": [
    "#gamma-ray counts \n",
    "gamma <- radiation$field_5\n",
    "#spatial weight matrix\n",
    "listw <- radiation_nbq_wb\n",
    "#simulation numbers\n",
    "nsim <- 999\n",
    "n <- length(listw$neighbours)\n",
    "S0 <- Szero(listw)"
   ]
  },
  {
   "cell_type": "code",
   "execution_count": null,
   "metadata": {
    "collapsed": false
   },
   "outputs": [],
   "source": [
    "#cluster using 10 processes\n",
    "cluster = makeCluster(10, type = \"SOCK\")\n",
    "registerDoSNOW(cluster)\n",
    "#share data sets\n",
    "clusterExport(cluster, c(\"gamma\", \"listw\",\"n\",\"S0\"))\n",
    "ptm <- proc.time()\n",
    "results = foreach(n = 1:nsim, .combine = c) %dopar% {\n",
    " library(spdep); moran(sample(gamma), listw, n, S0,zero.policy=NULL)$I\n",
    "}\n",
    "proc.time() - ptm\n",
    "\n",
    "stopCluster(cluster)"
   ]
  },
  {
   "cell_type": "code",
   "execution_count": null,
   "metadata": {
    "collapsed": false
   },
   "outputs": [],
   "source": [
    "#Calculate Moran's I\n",
    "paMoran <- function(res, x, listw, nsim,zero.policy=NULL,alternative=\"greater\") {\n",
    "  n <- length(listw$neighbours)\n",
    "  S0 <- Szero(listw)\n",
    "\n",
    "  res[nsim+1] <- moran(x, listw, n, S0, zero.policy)$I\n",
    "  rankres <- rank(res)\n",
    "  xrank <- rankres[length(res)]\n",
    "\tdiff <- nsim - xrank\n",
    "\tdiff <- ifelse(diff > 0, diff, 0)\n",
    "\n",
    "  if (alternative == \"less\") \n",
    "        \tpval <- punif((diff + 1)/(nsim + 1), lower.tail=FALSE)\n",
    "    \telse if (alternative == \"greater\") \n",
    "        \tpval <- punif((diff + 1)/(nsim + 1))\n",
    "  \n",
    "\tstatistic <- res[nsim+1]\n",
    "\tnames(statistic) <- \"statistic\"\n",
    "\tparameter <- xrank\n",
    "\tnames(parameter) <- \"observed rank\"\n",
    "\tmethod <- \"Parallel Monte-Carlo simulation of Moran's I\"\n",
    "    names(pval) <- \"p-value\"        \n",
    "\tlres <- list(statistic=statistic, parameter=parameter,\n",
    "\t    p.value=pval, alternative=alternative, method=method,res=res)  \n",
    "  \tlres \n",
    "}\n",
    "      \n",
    "#example 1\n",
    "mtest <- paMoran(results,gamma,listw,nsim)\n",
    "mtest$method\n",
    "mtest$statistic \n",
    "mtest$parameter\n",
    "mtest$p.value\n",
    "#mtest$res"
   ]
  },
  {
   "cell_type": "markdown",
   "metadata": {},
   "source": [
    "## Q1: Are there any differences for Moran's I when the number of random permutations is increased such as 1999?"
   ]
  },
  {
   "cell_type": "code",
   "execution_count": null,
   "metadata": {
    "collapsed": true
   },
   "outputs": [],
   "source": [
    "# Answer, explain your solution"
   ]
  }
 ],
 "metadata": {
  "kernelspec": {
   "display_name": "R 3.2",
   "language": "R",
   "name": "ir32"
  },
  "language_info": {
   "codemirror_mode": "r",
   "file_extension": ".r",
   "mimetype": "text/x-r-source",
   "name": "R",
   "pygments_lexer": "r",
   "version": "3.2.3"
  }
 },
 "nbformat": 4,
 "nbformat_minor": 0
}

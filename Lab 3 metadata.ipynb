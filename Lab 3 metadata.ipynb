{
 "cells": [
  {
   "cell_type": "markdown",
   "metadata": {},
   "source": [
    "## Metadata for Lab 3\n",
    "Data for lab 3 is the \"lossyear\" raster files described here: http://earthenginepartners.appspot.com/science-2013-global-forest/download_v1.2.html.\n",
    "\n",
    "It's the product of work from Hansen et. al, 2013, published in *[Science](http://science.sciencemag.org/content/342/6160/850)*.\n",
    "\n",
    "The list of lossyear files is provided by the authors in this [text file](https://storage.googleapis.com/earthenginepartners-hansen/GFC2015/lossyear.txt).\n",
    "\n",
    "![](http://earthenginepartners.appspot.com/science-2013-global-forest/banner.jpg)"
   ]
  }
 ],
 "metadata": {
  "kernelspec": {
   "display_name": "Python [default]",
   "language": "python",
   "name": "python3"
  },
  "language_info": {
   "codemirror_mode": {
    "name": "ipython",
    "version": 3
   },
   "file_extension": ".py",
   "mimetype": "text/x-python",
   "name": "python",
   "nbconvert_exporter": "python",
   "pygments_lexer": "ipython3",
   "version": "3.6.1"
  }
 },
 "nbformat": 4,
 "nbformat_minor": 1
}
